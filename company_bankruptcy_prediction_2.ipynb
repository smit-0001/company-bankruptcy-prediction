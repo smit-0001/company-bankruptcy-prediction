{
 "cells": [
  {
   "cell_type": "markdown",
   "metadata": {},
   "source": [
    "# Company Bankruptcy Prediction `2`"
   ]
  },
  {
   "cell_type": "markdown",
   "metadata": {},
   "source": [
    "## Imports"
   ]
  },
  {
   "cell_type": "code",
   "execution_count": 1,
   "metadata": {},
   "outputs": [],
   "source": [
    "import numpy as np\n",
    "import pandas as pd\n",
    "import seaborn as sns\n",
    "from random import randint\n",
    "import matplotlib.pyplot as plt\n",
    "\n",
    "from sklearn.linear_model import LogisticRegression\n",
    "from sklearn.svm import SVC\n",
    "from sklearn.neighbors import KNeighborsClassifier\n",
    "from sklearn.tree import DecisionTreeClassifier\n",
    "from sklearn.ensemble import RandomForestClassifier\n",
    "\n",
    "from sklearn.model_selection import train_test_split\n",
    "from sklearn.model_selection import StratifiedKFold\n",
    "from imblearn.pipeline import make_pipeline as imbalanced_make_pipeline\n",
    "from imblearn.over_sampling import SMOTE\n",
    "from sklearn.model_selection import RandomizedSearchCV\n",
    "from sklearn.metrics import classification_report, confusion_matrix, f1_score,accuracy_score, precision_score, recall_score, roc_auc_score \n",
    "\n",
    "from sklearn.feature_selection import SelectFromModel, mutual_info_classif, f_classif, SelectKBest\n",
    "from sklearn.feature_selection import f_classif\n",
    "\n",
    "import warnings\n",
    "warnings.filterwarnings(\"ignore\")"
   ]
  },
  {
   "cell_type": "code",
   "execution_count": 2,
   "metadata": {},
   "outputs": [
    {
     "data": {
      "text/plain": [
       "(6819, 96)"
      ]
     },
     "execution_count": 2,
     "metadata": {},
     "output_type": "execute_result"
    }
   ],
   "source": [
    "ds = pd.read_csv('Company Bankruptcy Prediction.csv')\n",
    "# remove leading and trailing white space in column name\n",
    "ds.columns = [i.title().strip() for i in list(ds.columns)]\n",
    "# print shape of dataset\n",
    "ds.shape"
   ]
  },
  {
   "cell_type": "markdown",
   "metadata": {},
   "source": [
    "## Data Sampling"
   ]
  },
  {
   "cell_type": "code",
   "execution_count": 3,
   "metadata": {},
   "outputs": [],
   "source": [
    "X = ds.drop('Bankrupt?', axis=1)\n",
    "y = ds['Bankrupt?']"
   ]
  },
  {
   "cell_type": "code",
   "execution_count": 4,
   "metadata": {},
   "outputs": [],
   "source": [
    "#Traditional split of the dataset 80% - 20%\n",
    "x_train, x_test, y_train, y_test = train_test_split(X, y, test_size=0.2, random_state=42)\n",
    "\n",
    "# x_train, x_test, y_train, y_test = x_train.values, x_test.values, y_train.values, y_test.values"
   ]
  },
  {
   "cell_type": "code",
   "execution_count": 5,
   "metadata": {},
   "outputs": [],
   "source": [
    "#Proportional split of 80% data with respect to the class of the target feature ie. [1,0]\n",
    "sf = StratifiedKFold(n_splits=5, random_state=None, shuffle=False)"
   ]
  },
  {
   "cell_type": "code",
   "execution_count": 6,
   "metadata": {},
   "outputs": [],
   "source": [
    "for train_index, test_index in sf.split(x_train, y_train):\n",
    "    sf_x_train, sf_x_test = X.iloc[train_index], X.iloc[test_index]\n",
    "    sf_y_train, sf_y_test = y.iloc[train_index], y.iloc[test_index]\n",
    "\n",
    "    # sf_x_train, sf_x_test, sf_y_train, sf_y_test = sf_x_train.values, sf_x_test.values, sf_y_train.values, sf_y_test.values"
   ]
  },
  {
   "cell_type": "code",
   "execution_count": 7,
   "metadata": {},
   "outputs": [
    {
     "data": {
      "text/html": [
       "<style>#sk-container-id-1 {color: black;background-color: white;}#sk-container-id-1 pre{padding: 0;}#sk-container-id-1 div.sk-toggleable {background-color: white;}#sk-container-id-1 label.sk-toggleable__label {cursor: pointer;display: block;width: 100%;margin-bottom: 0;padding: 0.3em;box-sizing: border-box;text-align: center;}#sk-container-id-1 label.sk-toggleable__label-arrow:before {content: \"▸\";float: left;margin-right: 0.25em;color: #696969;}#sk-container-id-1 label.sk-toggleable__label-arrow:hover:before {color: black;}#sk-container-id-1 div.sk-estimator:hover label.sk-toggleable__label-arrow:before {color: black;}#sk-container-id-1 div.sk-toggleable__content {max-height: 0;max-width: 0;overflow: hidden;text-align: left;background-color: #f0f8ff;}#sk-container-id-1 div.sk-toggleable__content pre {margin: 0.2em;color: black;border-radius: 0.25em;background-color: #f0f8ff;}#sk-container-id-1 input.sk-toggleable__control:checked~div.sk-toggleable__content {max-height: 200px;max-width: 100%;overflow: auto;}#sk-container-id-1 input.sk-toggleable__control:checked~label.sk-toggleable__label-arrow:before {content: \"▾\";}#sk-container-id-1 div.sk-estimator input.sk-toggleable__control:checked~label.sk-toggleable__label {background-color: #d4ebff;}#sk-container-id-1 div.sk-label input.sk-toggleable__control:checked~label.sk-toggleable__label {background-color: #d4ebff;}#sk-container-id-1 input.sk-hidden--visually {border: 0;clip: rect(1px 1px 1px 1px);clip: rect(1px, 1px, 1px, 1px);height: 1px;margin: -1px;overflow: hidden;padding: 0;position: absolute;width: 1px;}#sk-container-id-1 div.sk-estimator {font-family: monospace;background-color: #f0f8ff;border: 1px dotted black;border-radius: 0.25em;box-sizing: border-box;margin-bottom: 0.5em;}#sk-container-id-1 div.sk-estimator:hover {background-color: #d4ebff;}#sk-container-id-1 div.sk-parallel-item::after {content: \"\";width: 100%;border-bottom: 1px solid gray;flex-grow: 1;}#sk-container-id-1 div.sk-label:hover label.sk-toggleable__label {background-color: #d4ebff;}#sk-container-id-1 div.sk-serial::before {content: \"\";position: absolute;border-left: 1px solid gray;box-sizing: border-box;top: 0;bottom: 0;left: 50%;z-index: 0;}#sk-container-id-1 div.sk-serial {display: flex;flex-direction: column;align-items: center;background-color: white;padding-right: 0.2em;padding-left: 0.2em;position: relative;}#sk-container-id-1 div.sk-item {position: relative;z-index: 1;}#sk-container-id-1 div.sk-parallel {display: flex;align-items: stretch;justify-content: center;background-color: white;position: relative;}#sk-container-id-1 div.sk-item::before, #sk-container-id-1 div.sk-parallel-item::before {content: \"\";position: absolute;border-left: 1px solid gray;box-sizing: border-box;top: 0;bottom: 0;left: 50%;z-index: -1;}#sk-container-id-1 div.sk-parallel-item {display: flex;flex-direction: column;z-index: 1;position: relative;background-color: white;}#sk-container-id-1 div.sk-parallel-item:first-child::after {align-self: flex-end;width: 50%;}#sk-container-id-1 div.sk-parallel-item:last-child::after {align-self: flex-start;width: 50%;}#sk-container-id-1 div.sk-parallel-item:only-child::after {width: 0;}#sk-container-id-1 div.sk-dashed-wrapped {border: 1px dashed gray;margin: 0 0.4em 0.5em 0.4em;box-sizing: border-box;padding-bottom: 0.4em;background-color: white;}#sk-container-id-1 div.sk-label label {font-family: monospace;font-weight: bold;display: inline-block;line-height: 1.2em;}#sk-container-id-1 div.sk-label-container {text-align: center;}#sk-container-id-1 div.sk-container {/* jupyter's `normalize.less` sets `[hidden] { display: none; }` but bootstrap.min.css set `[hidden] { display: none !important; }` so we also need the `!important` here to be able to override the default hidden behavior on the sphinx rendered scikit-learn.org. See: https://github.com/scikit-learn/scikit-learn/issues/21755 */display: inline-block !important;position: relative;}#sk-container-id-1 div.sk-text-repr-fallback {display: none;}</style><div id=\"sk-container-id-1\" class=\"sk-top-container\"><div class=\"sk-text-repr-fallback\"><pre>SelectFromModel(estimator=LogisticRegression(C=1, penalty=&#x27;l1&#x27;,\n",
       "                                             solver=&#x27;liblinear&#x27;))</pre><b>In a Jupyter environment, please rerun this cell to show the HTML representation or trust the notebook. <br />On GitHub, the HTML representation is unable to render, please try loading this page with nbviewer.org.</b></div><div class=\"sk-container\" hidden><div class=\"sk-item sk-dashed-wrapped\"><div class=\"sk-label-container\"><div class=\"sk-label sk-toggleable\"><input class=\"sk-toggleable__control sk-hidden--visually\" id=\"sk-estimator-id-1\" type=\"checkbox\" ><label for=\"sk-estimator-id-1\" class=\"sk-toggleable__label sk-toggleable__label-arrow\">SelectFromModel</label><div class=\"sk-toggleable__content\"><pre>SelectFromModel(estimator=LogisticRegression(C=1, penalty=&#x27;l1&#x27;,\n",
       "                                             solver=&#x27;liblinear&#x27;))</pre></div></div></div><div class=\"sk-parallel\"><div class=\"sk-parallel-item\"><div class=\"sk-item\"><div class=\"sk-label-container\"><div class=\"sk-label sk-toggleable\"><input class=\"sk-toggleable__control sk-hidden--visually\" id=\"sk-estimator-id-2\" type=\"checkbox\" ><label for=\"sk-estimator-id-2\" class=\"sk-toggleable__label sk-toggleable__label-arrow\">estimator: LogisticRegression</label><div class=\"sk-toggleable__content\"><pre>LogisticRegression(C=1, penalty=&#x27;l1&#x27;, solver=&#x27;liblinear&#x27;)</pre></div></div></div><div class=\"sk-serial\"><div class=\"sk-item\"><div class=\"sk-estimator sk-toggleable\"><input class=\"sk-toggleable__control sk-hidden--visually\" id=\"sk-estimator-id-3\" type=\"checkbox\" ><label for=\"sk-estimator-id-3\" class=\"sk-toggleable__label sk-toggleable__label-arrow\">LogisticRegression</label><div class=\"sk-toggleable__content\"><pre>LogisticRegression(C=1, penalty=&#x27;l1&#x27;, solver=&#x27;liblinear&#x27;)</pre></div></div></div></div></div></div></div></div></div></div>"
      ],
      "text/plain": [
       "SelectFromModel(estimator=LogisticRegression(C=1, penalty='l1',\n",
       "                                             solver='liblinear'))"
      ]
     },
     "execution_count": 7,
     "metadata": {},
     "output_type": "execute_result"
    }
   ],
   "source": [
    "sel_ = SelectFromModel(LogisticRegression(C=1, penalty='l1',solver='liblinear'))\n",
    "sel_.fit(sf_x_train, sf_y_train)"
   ]
  },
  {
   "cell_type": "code",
   "execution_count": 8,
   "metadata": {},
   "outputs": [],
   "source": [
    "selected_feat = X.columns[sel_.get_support()]\n",
    "# selected_feat\n"
   ]
  },
  {
   "cell_type": "code",
   "execution_count": 9,
   "metadata": {},
   "outputs": [
    {
     "name": "stdout",
     "output_type": "stream",
     "text": [
      "total features: 95\n",
      "selected features: 13\n",
      "features with coefficients shrank to zero: 58\n"
     ]
    }
   ],
   "source": [
    "print('total features: {}'.format((x_train.shape[1])))\n",
    "print('selected features: {}'.format(len(selected_feat)))\n",
    "print('features with coefficients shrank to zero: {}'.format(\n",
    "      np.sum(sel_.estimator_.coef_ == 0)))"
   ]
  },
  {
   "cell_type": "code",
   "execution_count": 10,
   "metadata": {},
   "outputs": [],
   "source": [
    "removed_feats = x_train.columns[(sel_.estimator_.coef_ == 0).ravel().tolist()]\n",
    "# removed_feats = removed_feats.to_list()"
   ]
  },
  {
   "cell_type": "code",
   "execution_count": 11,
   "metadata": {},
   "outputs": [],
   "source": [
    "from sklearn.preprocessing import StandardScaler\n",
    "sc = StandardScaler()\n",
    "x_train_sc = sc.fit_transform(sf_x_train)\n",
    "x_train_sc = pd.DataFrame(x_train_sc , columns=sf_x_train.columns, index=sf_x_train.index)\n",
    "\n",
    "x_test_sc = sc.transform(sf_x_test)\n",
    "x_test_sc = pd.DataFrame(sf_x_test, columns=sf_x_test.columns, index=sf_x_test.index)"
   ]
  },
  {
   "cell_type": "code",
   "execution_count": 12,
   "metadata": {},
   "outputs": [],
   "source": [
    "x_train_sc.drop(removed_feats, axis=1, inplace=True)\n",
    "x_test_sc.drop(removed_feats, axis=1, inplace=True)\n"
   ]
  },
  {
   "cell_type": "markdown",
   "metadata": {},
   "source": [
    "### PCA visualization"
   ]
  },
  {
   "cell_type": "code",
   "execution_count": 13,
   "metadata": {},
   "outputs": [],
   "source": [
    "from sklearn.decomposition import PCA\n",
    "pc = PCA(n_components=len(x_train_sc.columns))\n",
    "x_train_pc = pc.fit_transform(x_train_sc)\n",
    "PC_df_train = pd.DataFrame(x_train_pc,columns=['PC_' +str(i) for i in range(1,pc.n_components_+1)])"
   ]
  },
  {
   "cell_type": "code",
   "execution_count": 14,
   "metadata": {},
   "outputs": [
    {
     "data": {
      "text/html": [
       "<div>\n",
       "<style scoped>\n",
       "    .dataframe tbody tr th:only-of-type {\n",
       "        vertical-align: middle;\n",
       "    }\n",
       "\n",
       "    .dataframe tbody tr th {\n",
       "        vertical-align: top;\n",
       "    }\n",
       "\n",
       "    .dataframe thead th {\n",
       "        text-align: right;\n",
       "    }\n",
       "</style>\n",
       "<table border=\"1\" class=\"dataframe\">\n",
       "  <thead>\n",
       "    <tr style=\"text-align: right;\">\n",
       "      <th></th>\n",
       "      <th>PC_1</th>\n",
       "      <th>PC_2</th>\n",
       "      <th>PC_3</th>\n",
       "      <th>PC_4</th>\n",
       "      <th>PC_5</th>\n",
       "      <th>PC_6</th>\n",
       "      <th>PC_7</th>\n",
       "      <th>PC_8</th>\n",
       "      <th>PC_9</th>\n",
       "      <th>PC_10</th>\n",
       "      <th>...</th>\n",
       "      <th>PC_28</th>\n",
       "      <th>PC_29</th>\n",
       "      <th>PC_30</th>\n",
       "      <th>PC_31</th>\n",
       "      <th>PC_32</th>\n",
       "      <th>PC_33</th>\n",
       "      <th>PC_34</th>\n",
       "      <th>PC_35</th>\n",
       "      <th>PC_36</th>\n",
       "      <th>PC_37</th>\n",
       "    </tr>\n",
       "  </thead>\n",
       "  <tbody>\n",
       "    <tr>\n",
       "      <th>0</th>\n",
       "      <td>4.261830</td>\n",
       "      <td>0.664941</td>\n",
       "      <td>-0.844727</td>\n",
       "      <td>0.144340</td>\n",
       "      <td>-0.445447</td>\n",
       "      <td>0.128803</td>\n",
       "      <td>-0.034242</td>\n",
       "      <td>-0.058916</td>\n",
       "      <td>0.368899</td>\n",
       "      <td>0.000971</td>\n",
       "      <td>...</td>\n",
       "      <td>-0.755200</td>\n",
       "      <td>0.502127</td>\n",
       "      <td>0.903241</td>\n",
       "      <td>1.029109</td>\n",
       "      <td>-0.027012</td>\n",
       "      <td>-0.105594</td>\n",
       "      <td>1.012245</td>\n",
       "      <td>0.234903</td>\n",
       "      <td>-0.128136</td>\n",
       "      <td>3.815218e-17</td>\n",
       "    </tr>\n",
       "    <tr>\n",
       "      <th>1</th>\n",
       "      <td>2.439572</td>\n",
       "      <td>-2.311366</td>\n",
       "      <td>-0.284996</td>\n",
       "      <td>-0.529601</td>\n",
       "      <td>0.668149</td>\n",
       "      <td>-0.454465</td>\n",
       "      <td>0.050279</td>\n",
       "      <td>-0.172165</td>\n",
       "      <td>-0.456187</td>\n",
       "      <td>1.118869</td>\n",
       "      <td>...</td>\n",
       "      <td>-0.243173</td>\n",
       "      <td>0.009102</td>\n",
       "      <td>0.194536</td>\n",
       "      <td>0.718992</td>\n",
       "      <td>-0.139471</td>\n",
       "      <td>0.072763</td>\n",
       "      <td>0.516976</td>\n",
       "      <td>0.008184</td>\n",
       "      <td>-0.197717</td>\n",
       "      <td>-8.147003e-17</td>\n",
       "    </tr>\n",
       "    <tr>\n",
       "      <th>2</th>\n",
       "      <td>3.650678</td>\n",
       "      <td>-0.254314</td>\n",
       "      <td>0.137801</td>\n",
       "      <td>1.021435</td>\n",
       "      <td>1.738948</td>\n",
       "      <td>4.485028</td>\n",
       "      <td>-3.254555</td>\n",
       "      <td>-0.350655</td>\n",
       "      <td>-0.182066</td>\n",
       "      <td>-0.281888</td>\n",
       "      <td>...</td>\n",
       "      <td>1.412873</td>\n",
       "      <td>-0.409036</td>\n",
       "      <td>-0.374005</td>\n",
       "      <td>-0.214190</td>\n",
       "      <td>-0.443037</td>\n",
       "      <td>-0.110089</td>\n",
       "      <td>-0.548775</td>\n",
       "      <td>-0.582105</td>\n",
       "      <td>-0.141893</td>\n",
       "      <td>-1.731144e-16</td>\n",
       "    </tr>\n",
       "    <tr>\n",
       "      <th>3</th>\n",
       "      <td>3.540328</td>\n",
       "      <td>-1.218777</td>\n",
       "      <td>-0.650979</td>\n",
       "      <td>-0.024538</td>\n",
       "      <td>-0.846657</td>\n",
       "      <td>-0.131419</td>\n",
       "      <td>-0.042510</td>\n",
       "      <td>-0.078053</td>\n",
       "      <td>0.690761</td>\n",
       "      <td>0.103643</td>\n",
       "      <td>...</td>\n",
       "      <td>0.534552</td>\n",
       "      <td>-0.986677</td>\n",
       "      <td>-0.195534</td>\n",
       "      <td>-0.870762</td>\n",
       "      <td>-0.305272</td>\n",
       "      <td>-0.529568</td>\n",
       "      <td>-0.439273</td>\n",
       "      <td>0.467492</td>\n",
       "      <td>-0.222883</td>\n",
       "      <td>-4.145539e-17</td>\n",
       "    </tr>\n",
       "    <tr>\n",
       "      <th>4</th>\n",
       "      <td>0.604262</td>\n",
       "      <td>0.983673</td>\n",
       "      <td>-1.791991</td>\n",
       "      <td>0.651401</td>\n",
       "      <td>-1.210239</td>\n",
       "      <td>0.398357</td>\n",
       "      <td>-0.345031</td>\n",
       "      <td>-0.268971</td>\n",
       "      <td>1.227049</td>\n",
       "      <td>-0.068110</td>\n",
       "      <td>...</td>\n",
       "      <td>-0.595818</td>\n",
       "      <td>0.700042</td>\n",
       "      <td>0.489328</td>\n",
       "      <td>-0.731244</td>\n",
       "      <td>0.620279</td>\n",
       "      <td>-0.002896</td>\n",
       "      <td>0.244801</td>\n",
       "      <td>-0.161327</td>\n",
       "      <td>-0.264801</td>\n",
       "      <td>-5.361976e-17</td>\n",
       "    </tr>\n",
       "    <tr>\n",
       "      <th>...</th>\n",
       "      <td>...</td>\n",
       "      <td>...</td>\n",
       "      <td>...</td>\n",
       "      <td>...</td>\n",
       "      <td>...</td>\n",
       "      <td>...</td>\n",
       "      <td>...</td>\n",
       "      <td>...</td>\n",
       "      <td>...</td>\n",
       "      <td>...</td>\n",
       "      <td>...</td>\n",
       "      <td>...</td>\n",
       "      <td>...</td>\n",
       "      <td>...</td>\n",
       "      <td>...</td>\n",
       "      <td>...</td>\n",
       "      <td>...</td>\n",
       "      <td>...</td>\n",
       "      <td>...</td>\n",
       "      <td>...</td>\n",
       "      <td>...</td>\n",
       "    </tr>\n",
       "    <tr>\n",
       "      <th>4359</th>\n",
       "      <td>-0.382911</td>\n",
       "      <td>1.120284</td>\n",
       "      <td>2.018966</td>\n",
       "      <td>-0.319267</td>\n",
       "      <td>-0.193378</td>\n",
       "      <td>-0.057464</td>\n",
       "      <td>-0.193427</td>\n",
       "      <td>-0.142446</td>\n",
       "      <td>0.436196</td>\n",
       "      <td>0.365228</td>\n",
       "      <td>...</td>\n",
       "      <td>-0.361966</td>\n",
       "      <td>0.403036</td>\n",
       "      <td>0.316010</td>\n",
       "      <td>-0.497408</td>\n",
       "      <td>0.185972</td>\n",
       "      <td>0.136069</td>\n",
       "      <td>0.331024</td>\n",
       "      <td>-0.160635</td>\n",
       "      <td>-0.147292</td>\n",
       "      <td>8.015471e-17</td>\n",
       "    </tr>\n",
       "    <tr>\n",
       "      <th>4360</th>\n",
       "      <td>-1.825613</td>\n",
       "      <td>0.999562</td>\n",
       "      <td>-2.220198</td>\n",
       "      <td>-0.401268</td>\n",
       "      <td>0.570962</td>\n",
       "      <td>-0.347244</td>\n",
       "      <td>-0.277889</td>\n",
       "      <td>-0.230729</td>\n",
       "      <td>0.575783</td>\n",
       "      <td>-0.439659</td>\n",
       "      <td>...</td>\n",
       "      <td>0.088500</td>\n",
       "      <td>0.758970</td>\n",
       "      <td>-0.417755</td>\n",
       "      <td>1.403949</td>\n",
       "      <td>0.075616</td>\n",
       "      <td>0.515151</td>\n",
       "      <td>0.147752</td>\n",
       "      <td>-0.071139</td>\n",
       "      <td>0.113205</td>\n",
       "      <td>-1.711672e-17</td>\n",
       "    </tr>\n",
       "    <tr>\n",
       "      <th>4361</th>\n",
       "      <td>2.709371</td>\n",
       "      <td>2.419938</td>\n",
       "      <td>1.238457</td>\n",
       "      <td>0.927245</td>\n",
       "      <td>-0.662217</td>\n",
       "      <td>-0.071183</td>\n",
       "      <td>0.114743</td>\n",
       "      <td>0.415117</td>\n",
       "      <td>1.274750</td>\n",
       "      <td>-4.162461</td>\n",
       "      <td>...</td>\n",
       "      <td>0.524236</td>\n",
       "      <td>0.993124</td>\n",
       "      <td>0.688256</td>\n",
       "      <td>0.039316</td>\n",
       "      <td>0.700752</td>\n",
       "      <td>0.614565</td>\n",
       "      <td>-0.015486</td>\n",
       "      <td>0.702692</td>\n",
       "      <td>-0.143362</td>\n",
       "      <td>-6.339330e-17</td>\n",
       "    </tr>\n",
       "    <tr>\n",
       "      <th>4362</th>\n",
       "      <td>2.948462</td>\n",
       "      <td>1.872506</td>\n",
       "      <td>-0.085342</td>\n",
       "      <td>-0.827604</td>\n",
       "      <td>0.142251</td>\n",
       "      <td>-0.606456</td>\n",
       "      <td>0.166592</td>\n",
       "      <td>-0.204019</td>\n",
       "      <td>-0.712670</td>\n",
       "      <td>-1.202256</td>\n",
       "      <td>...</td>\n",
       "      <td>-0.670035</td>\n",
       "      <td>-0.682125</td>\n",
       "      <td>1.190165</td>\n",
       "      <td>0.143265</td>\n",
       "      <td>-0.185092</td>\n",
       "      <td>0.017865</td>\n",
       "      <td>0.157939</td>\n",
       "      <td>0.307376</td>\n",
       "      <td>-0.160332</td>\n",
       "      <td>-2.458525e-17</td>\n",
       "    </tr>\n",
       "    <tr>\n",
       "      <th>4363</th>\n",
       "      <td>-1.484273</td>\n",
       "      <td>2.769264</td>\n",
       "      <td>-2.852950</td>\n",
       "      <td>0.605726</td>\n",
       "      <td>-0.751159</td>\n",
       "      <td>0.202038</td>\n",
       "      <td>-0.047495</td>\n",
       "      <td>-0.050717</td>\n",
       "      <td>-0.826464</td>\n",
       "      <td>0.021881</td>\n",
       "      <td>...</td>\n",
       "      <td>0.351794</td>\n",
       "      <td>-0.788723</td>\n",
       "      <td>0.552152</td>\n",
       "      <td>1.213151</td>\n",
       "      <td>-0.399774</td>\n",
       "      <td>1.334255</td>\n",
       "      <td>-0.115300</td>\n",
       "      <td>0.370755</td>\n",
       "      <td>-0.132553</td>\n",
       "      <td>-2.437234e-18</td>\n",
       "    </tr>\n",
       "  </tbody>\n",
       "</table>\n",
       "<p>4364 rows × 37 columns</p>\n",
       "</div>"
      ],
      "text/plain": [
       "          PC_1      PC_2      PC_3      PC_4      PC_5      PC_6      PC_7  \\\n",
       "0     4.261830  0.664941 -0.844727  0.144340 -0.445447  0.128803 -0.034242   \n",
       "1     2.439572 -2.311366 -0.284996 -0.529601  0.668149 -0.454465  0.050279   \n",
       "2     3.650678 -0.254314  0.137801  1.021435  1.738948  4.485028 -3.254555   \n",
       "3     3.540328 -1.218777 -0.650979 -0.024538 -0.846657 -0.131419 -0.042510   \n",
       "4     0.604262  0.983673 -1.791991  0.651401 -1.210239  0.398357 -0.345031   \n",
       "...        ...       ...       ...       ...       ...       ...       ...   \n",
       "4359 -0.382911  1.120284  2.018966 -0.319267 -0.193378 -0.057464 -0.193427   \n",
       "4360 -1.825613  0.999562 -2.220198 -0.401268  0.570962 -0.347244 -0.277889   \n",
       "4361  2.709371  2.419938  1.238457  0.927245 -0.662217 -0.071183  0.114743   \n",
       "4362  2.948462  1.872506 -0.085342 -0.827604  0.142251 -0.606456  0.166592   \n",
       "4363 -1.484273  2.769264 -2.852950  0.605726 -0.751159  0.202038 -0.047495   \n",
       "\n",
       "          PC_8      PC_9     PC_10  ...     PC_28     PC_29     PC_30  \\\n",
       "0    -0.058916  0.368899  0.000971  ... -0.755200  0.502127  0.903241   \n",
       "1    -0.172165 -0.456187  1.118869  ... -0.243173  0.009102  0.194536   \n",
       "2    -0.350655 -0.182066 -0.281888  ...  1.412873 -0.409036 -0.374005   \n",
       "3    -0.078053  0.690761  0.103643  ...  0.534552 -0.986677 -0.195534   \n",
       "4    -0.268971  1.227049 -0.068110  ... -0.595818  0.700042  0.489328   \n",
       "...        ...       ...       ...  ...       ...       ...       ...   \n",
       "4359 -0.142446  0.436196  0.365228  ... -0.361966  0.403036  0.316010   \n",
       "4360 -0.230729  0.575783 -0.439659  ...  0.088500  0.758970 -0.417755   \n",
       "4361  0.415117  1.274750 -4.162461  ...  0.524236  0.993124  0.688256   \n",
       "4362 -0.204019 -0.712670 -1.202256  ... -0.670035 -0.682125  1.190165   \n",
       "4363 -0.050717 -0.826464  0.021881  ...  0.351794 -0.788723  0.552152   \n",
       "\n",
       "         PC_31     PC_32     PC_33     PC_34     PC_35     PC_36         PC_37  \n",
       "0     1.029109 -0.027012 -0.105594  1.012245  0.234903 -0.128136  3.815218e-17  \n",
       "1     0.718992 -0.139471  0.072763  0.516976  0.008184 -0.197717 -8.147003e-17  \n",
       "2    -0.214190 -0.443037 -0.110089 -0.548775 -0.582105 -0.141893 -1.731144e-16  \n",
       "3    -0.870762 -0.305272 -0.529568 -0.439273  0.467492 -0.222883 -4.145539e-17  \n",
       "4    -0.731244  0.620279 -0.002896  0.244801 -0.161327 -0.264801 -5.361976e-17  \n",
       "...        ...       ...       ...       ...       ...       ...           ...  \n",
       "4359 -0.497408  0.185972  0.136069  0.331024 -0.160635 -0.147292  8.015471e-17  \n",
       "4360  1.403949  0.075616  0.515151  0.147752 -0.071139  0.113205 -1.711672e-17  \n",
       "4361  0.039316  0.700752  0.614565 -0.015486  0.702692 -0.143362 -6.339330e-17  \n",
       "4362  0.143265 -0.185092  0.017865  0.157939  0.307376 -0.160332 -2.458525e-17  \n",
       "4363  1.213151 -0.399774  1.334255 -0.115300  0.370755 -0.132553 -2.437234e-18  \n",
       "\n",
       "[4364 rows x 37 columns]"
      ]
     },
     "execution_count": 14,
     "metadata": {},
     "output_type": "execute_result"
    }
   ],
   "source": [
    "PC_df_train"
   ]
  },
  {
   "cell_type": "code",
   "execution_count": 15,
   "metadata": {},
   "outputs": [
    {
     "data": {
      "image/png": "[encoded data removed]",
      "text/plain": [
       "<Figure size 864x432 with 1 Axes>"
      ]
     },
     "metadata": {
      "needs_background": "light"
     },
     "output_type": "display_data"
    }
   ],
   "source": [
    "plt.figure(figsize=(12,6))\n",
    "plt.plot(PC_df_train.std())\n",
    "plt.title('Scree Plot - PCA components')\n",
    "plt.xlabel('Principal Component')\n",
    "plt.xticks(rotation=90)\n",
    "plt.ylabel('Standard deviation')\n",
    "plt.show()"
   ]
  },
  {
   "cell_type": "code",
   "execution_count": 16,
   "metadata": {},
   "outputs": [],
   "source": [
    "pc = PCA(n_components=8)\n",
    "X_train_pc=pc.fit_transform(x_train_sc)\n",
    "PC_df_train=pd.DataFrame(X_train_pc,columns=['PC_' +str(i) for i in range(1,pc.n_components_+1)])"
   ]
  },
  {
   "cell_type": "code",
   "execution_count": 17,
   "metadata": {},
   "outputs": [],
   "source": [
    "X_test_pc = pc.transform(x_test_sc)\n",
    "PC_df_test=pd.DataFrame(X_test_pc,columns=['PC_' +str(i) for i in range(1,pc.n_components_+1)])"
   ]
  },
  {
   "cell_type": "code",
   "execution_count": 18,
   "metadata": {},
   "outputs": [
    {
     "name": "stdout",
     "output_type": "stream",
     "text": [
      "(4364, 8)\n"
     ]
    },
    {
     "data": {
      "text/plain": [
       "(5455,)"
      ]
     },
     "execution_count": 18,
     "metadata": {},
     "output_type": "execute_result"
    }
   ],
   "source": [
    "print(PC_df_train.shape)\n",
    "y_train.shape"
   ]
  },
  {
   "cell_type": "markdown",
   "metadata": {},
   "source": [
    "## Logistic Regression Model"
   ]
  },
  {
   "cell_type": "code",
   "execution_count": 19,
   "metadata": {},
   "outputs": [
    {
     "name": "stdout",
     "output_type": "stream",
     "text": [
      "Confusion Matrix \n",
      " [[  14    0]\n",
      " [1060   17]]\n",
      "\n",
      "Accuracy Score \n",
      " 0.02841429880843263\n",
      "\n",
      "Classification Report \n",
      "               precision    recall  f1-score   support\n",
      "\n",
      "           0       0.01      1.00      0.03        14\n",
      "           1       1.00      0.02      0.03      1077\n",
      "\n",
      "    accuracy                           0.03      1091\n",
      "   macro avg       0.51      0.51      0.03      1091\n",
      "weighted avg       0.99      0.03      0.03      1091\n",
      "\n"
     ]
    }
   ],
   "source": [
    "classifier_lr = LogisticRegression()\n",
    "classifier_lr.fit(PC_df_train,sf_y_train)\n",
    "y_lr = classifier_lr.predict(X_test_pc)\n",
    "\n",
    "print('Confusion Matrix \\n',confusion_matrix(y_lr,sf_y_test))\n",
    "print()\n",
    "print('Accuracy Score \\n', accuracy_score(y_lr,sf_y_test))\n",
    "print()\n",
    "print('Classification Report \\n',classification_report(y_lr,sf_y_test))"
   ]
  },
  {
   "cell_type": "code",
   "execution_count": 20,
   "metadata": {},
   "outputs": [
    {
     "name": "stdout",
     "output_type": "stream",
     "text": [
      "Confusion Matrix \n",
      " [[1311   51]\n",
      " [   2    0]]\n",
      "\n",
      "Accuracy Score \n",
      " 0.9611436950146628\n",
      "\n",
      "Classification Report \n",
      "               precision    recall  f1-score   support\n",
      "\n",
      "           0       1.00      0.96      0.98      1362\n",
      "           1       0.00      0.00      0.00         2\n",
      "\n",
      "    accuracy                           0.96      1364\n",
      "   macro avg       0.50      0.48      0.49      1364\n",
      "weighted avg       1.00      0.96      0.98      1364\n",
      "\n"
     ]
    }
   ],
   "source": [
    "classifier_lr_2 = LogisticRegression()\n",
    "classifier_lr_2.fit(x_train,y_train)\n",
    "y_lr_2 = classifier_lr_2.predict(x_test)\n",
    "\n",
    "print('Confusion Matrix \\n',confusion_matrix(y_lr_2,y_test))\n",
    "print()\n",
    "print('Accuracy Score \\n', accuracy_score(y_lr_2,y_test))\n",
    "print()\n",
    "print('Classification Report \\n',classification_report(y_lr_2,y_test))"
   ]
  },
  {
   "cell_type": "markdown",
   "metadata": {},
   "source": [
    "## SVM"
   ]
  },
  {
   "cell_type": "code",
   "execution_count": 21,
   "metadata": {},
   "outputs": [
    {
     "name": "stdout",
     "output_type": "stream",
     "text": [
      "Confusion Matrix \n",
      " [[1074   17]\n",
      " [   0    0]]\n",
      "\n",
      "Accuracy Score \n",
      " 0.9844179651695693\n",
      "\n",
      "Classification Report \n",
      "               precision    recall  f1-score   support\n",
      "\n",
      "           0       1.00      0.98      0.99      1091\n",
      "           1       0.00      0.00      0.00         0\n",
      "\n",
      "    accuracy                           0.98      1091\n",
      "   macro avg       0.50      0.49      0.50      1091\n",
      "weighted avg       1.00      0.98      0.99      1091\n",
      "\n"
     ]
    }
   ],
   "source": [
    "classifier_svc = SVC()\n",
    "classifier_svc.fit(pc.fit_transform(x_train_sc),sf_y_train)\n",
    "y_svc=classifier_svc.predict(X_test_pc)\n",
    "\n",
    "print('Confusion Matrix \\n',confusion_matrix(y_svc,sf_y_test))\n",
    "print()\n",
    "print('Accuracy Score \\n', accuracy_score(y_svc,sf_y_test))\n",
    "print()\n",
    "print('Classification Report \\n',classification_report(y_svc,sf_y_test))"
   ]
  },
  {
   "cell_type": "code",
   "execution_count": 22,
   "metadata": {},
   "outputs": [
    {
     "name": "stdout",
     "output_type": "stream",
     "text": [
      "Confusion Matrix \n",
      " [[1311   51]\n",
      " [   2    0]]\n",
      "\n",
      "Accuracy Score \n",
      " 0.9611436950146628\n",
      "\n",
      "Classification Report \n",
      "               precision    recall  f1-score   support\n",
      "\n",
      "           0       1.00      0.96      0.98      1362\n",
      "           1       0.00      0.00      0.00         2\n",
      "\n",
      "    accuracy                           0.96      1364\n",
      "   macro avg       0.50      0.48      0.49      1364\n",
      "weighted avg       1.00      0.96      0.98      1364\n",
      "\n"
     ]
    }
   ],
   "source": [
    "classifier_svc_2 = LogisticRegression()\n",
    "classifier_svc_2.fit(x_train,y_train)\n",
    "y_svc_2 = classifier_svc_2.predict(x_test)\n",
    "\n",
    "print('Confusion Matrix \\n',confusion_matrix(y_svc_2,y_test))\n",
    "print()\n",
    "print('Accuracy Score \\n', accuracy_score(y_svc_2,y_test))\n",
    "print()\n",
    "print('Classification Report \\n',classification_report(y_svc_2,y_test))"
   ]
  },
  {
   "cell_type": "markdown",
   "metadata": {},
   "source": [
    "## Random Forset Regeression"
   ]
  },
  {
   "cell_type": "code",
   "execution_count": 23,
   "metadata": {},
   "outputs": [
    {
     "name": "stdout",
     "output_type": "stream",
     "text": [
      "Confusion Matrix \n",
      " [[871  10]\n",
      " [203   7]]\n",
      "\n",
      "Accuracy Score \n",
      " 0.8047662694775435\n",
      "\n",
      "Classification Report \n",
      "               precision    recall  f1-score   support\n",
      "\n",
      "           0       0.81      0.99      0.89       881\n",
      "           1       0.41      0.03      0.06       210\n",
      "\n",
      "    accuracy                           0.80      1091\n",
      "   macro avg       0.61      0.51      0.48      1091\n",
      "weighted avg       0.73      0.80      0.73      1091\n",
      "\n"
     ]
    }
   ],
   "source": [
    "classifier_rf = RandomForestClassifier()\n",
    "classifier_rf.fit(X_train_pc,sf_y_train)\n",
    "y_rfc=classifier_rf.predict(X_test_pc)\n",
    "\n",
    "print('Confusion Matrix \\n',confusion_matrix(y_rfc,sf_y_test))\n",
    "print()\n",
    "print('Accuracy Score \\n', accuracy_score(y_rfc,sf_y_test))\n",
    "print()\n",
    "print('Classification Report \\n',classification_report(y_rfc,sf_y_test))"
   ]
  },
  {
   "cell_type": "markdown",
   "metadata": {},
   "source": [
    "## XGB"
   ]
  },
  {
   "cell_type": "code",
   "execution_count": 24,
   "metadata": {},
   "outputs": [
    {
     "name": "stdout",
     "output_type": "stream",
     "text": [
      "Confusion Matrix \n",
      " [[687   8]\n",
      " [387   9]]\n",
      "\n",
      "Accuracy Score \n",
      " 0.6379468377635197\n",
      "\n",
      "Classification Report \n",
      "               precision    recall  f1-score   support\n",
      "\n",
      "           0       0.64      0.99      0.78       695\n",
      "           1       0.53      0.02      0.04       396\n",
      "\n",
      "    accuracy                           0.64      1091\n",
      "   macro avg       0.58      0.51      0.41      1091\n",
      "weighted avg       0.60      0.64      0.51      1091\n",
      "\n"
     ]
    }
   ],
   "source": [
    "from sklearn.ensemble import GradientBoostingClassifier\n",
    "classifier = GradientBoostingClassifier()\n",
    "classifier.fit(X_train_pc,sf_y_train)\n",
    "y_gbc=classifier.predict(X_test_pc)\n",
    "\n",
    "print('Confusion Matrix \\n',confusion_matrix(y_gbc,sf_y_test))\n",
    "print()\n",
    "print('Accuracy Score \\n', accuracy_score(y_gbc,sf_y_test))\n",
    "print()\n",
    "print('Classification Report \\n',classification_report(y_gbc,sf_y_test))"
   ]
  },
  {
   "cell_type": "markdown",
   "metadata": {},
   "source": [
    "`2`"
   ]
  },
  {
   "cell_type": "code",
   "execution_count": 25,
   "metadata": {},
   "outputs": [
    {
     "name": "stdout",
     "output_type": "stream",
     "text": [
      "Confusion Matrix \n",
      " [[1311   51]\n",
      " [   2    0]]\n",
      "\n",
      "Accuracy Score \n",
      " 0.9611436950146628\n",
      "\n",
      "Classification Report \n",
      "               precision    recall  f1-score   support\n",
      "\n",
      "           0       1.00      0.96      0.98      1362\n",
      "           1       0.00      0.00      0.00         2\n",
      "\n",
      "    accuracy                           0.96      1364\n",
      "   macro avg       0.50      0.48      0.49      1364\n",
      "weighted avg       1.00      0.96      0.98      1364\n",
      "\n"
     ]
    }
   ],
   "source": [
    "classifier_xgb_2 = LogisticRegression()\n",
    "classifier_xgb_2.fit(x_train,y_train)\n",
    "y_xgb_2 = classifier_xgb_2.predict(x_test)\n",
    "\n",
    "print('Confusion Matrix \\n',confusion_matrix(y_xgb_2,y_test))\n",
    "print()\n",
    "print('Accuracy Score \\n', accuracy_score(y_xgb_2,y_test))\n",
    "print()\n",
    "print('Classification Report \\n',classification_report(y_xgb_2,y_test))"
   ]
  },
  {
   "cell_type": "code",
   "execution_count": null,
   "metadata": {},
   "outputs": [],
   "source": []
  }
 ],
 "metadata": {
  "kernelspec": {
   "display_name": "Python 3.9.7 ('base')",
   "language": "python",
   "name": "python3"
  },
  "language_info": {
   "codemirror_mode": {
    "name": "ipython",
    "version": 3
   },
   "file_extension": ".py",
   "mimetype": "text/x-python",
   "name": "python",
   "nbconvert_exporter": "python",
   "pygments_lexer": "ipython3",
   "version": "3.9.7"
  },
  "orig_nbformat": 4,
  "vscode": {
   "interpreter": {
    "hash": "40d3a090f54c6569ab1632332b64b2c03c39dcf918b08424e98f38b5ae0af88f"
   }
  }
 },
 "nbformat": 4,
 "nbformat_minor": 2
}
